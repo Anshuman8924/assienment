{
 "cells": [
  {
   "cell_type": "code",
   "execution_count": 2,
   "id": "2d0c8f34-2bb7-41dd-b58f-6ab2333f0bc0",
   "metadata": {},
   "outputs": [],
   "source": [
    "d={}"
   ]
  },
  {
   "cell_type": "code",
   "execution_count": 3,
   "id": "b3623241-1c0c-4167-9518-f261db33e4e0",
   "metadata": {},
   "outputs": [
    {
     "data": {
      "text/plain": [
       "dict"
      ]
     },
     "execution_count": 3,
     "metadata": {},
     "output_type": "execute_result"
    }
   ],
   "source": [
    "type(d)"
   ]
  },
  {
   "cell_type": "code",
   "execution_count": 8,
   "id": "e3116f7c-da98-492e-b5f8-3d1d190ae418",
   "metadata": {},
   "outputs": [],
   "source": [
    "d1={34,34,34}"
   ]
  },
  {
   "cell_type": "code",
   "execution_count": 9,
   "id": "0e2ca7a2-ca14-4d60-b791-9a812425c710",
   "metadata": {},
   "outputs": [
    {
     "data": {
      "text/plain": [
       "set"
      ]
     },
     "execution_count": 9,
     "metadata": {},
     "output_type": "execute_result"
    }
   ],
   "source": [
    "type(d1)"
   ]
  },
  {
   "cell_type": "code",
   "execution_count": 11,
   "id": "8c3220e8-83fb-40fc-96b1-7ac1a42b06fe",
   "metadata": {},
   "outputs": [],
   "source": [
    "d2={'key' : 'anshu'}"
   ]
  },
  {
   "cell_type": "code",
   "execution_count": 12,
   "id": "898c2ebb-0ed5-47dc-af4f-3450792e5212",
   "metadata": {},
   "outputs": [],
   "source": [
    "d3={'name' : 'anshu','email' : 'anshumanbhabhaya','number' : '23334343434'}"
   ]
  },
  {
   "cell_type": "code",
   "execution_count": 21,
   "id": "7210b95d-4781-44a0-a81d-71537faa1189",
   "metadata": {},
   "outputs": [],
   "source": [
    "d4={12 : 'aman' ,'-rtt' : 33333 , True :565656 }"
   ]
  },
  {
   "cell_type": "code",
   "execution_count": 22,
   "id": "548d4ea5-7d27-46ce-813e-92aa657fed77",
   "metadata": {},
   "outputs": [
    {
     "data": {
      "text/plain": [
       "{12: 'aman', '-rtt': 33333, True: 565656}"
      ]
     },
     "execution_count": 22,
     "metadata": {},
     "output_type": "execute_result"
    }
   ],
   "source": [
    "d4"
   ]
  },
  {
   "cell_type": "code",
   "execution_count": 20,
   "id": "0f47f338-53b8-48ff-a051-320848d8c56a",
   "metadata": {},
   "outputs": [
    {
     "data": {
      "text/plain": [
       "'aman'"
      ]
     },
     "execution_count": 20,
     "metadata": {},
     "output_type": "execute_result"
    }
   ],
   "source": [
    "d4[12]"
   ]
  },
  {
   "cell_type": "code",
   "execution_count": 23,
   "id": "a5a158b3-8ebc-4dc7-b6ce-4a3812e58a07",
   "metadata": {},
   "outputs": [
    {
     "data": {
      "text/plain": [
       "565656"
      ]
     },
     "execution_count": 23,
     "metadata": {},
     "output_type": "execute_result"
    }
   ],
   "source": [
    "d4[True]"
   ]
  },
  {
   "cell_type": "code",
   "execution_count": 25,
   "id": "d85b0f32-0bf4-4e88-ae75-a8cb6f3cb583",
   "metadata": {},
   "outputs": [],
   "source": [
    "dec={'name':'anshuman mishra','vill':'lakhoopur','edu':'graduate'}"
   ]
  },
  {
   "cell_type": "code",
   "execution_count": 26,
   "id": "a48743dc-5e2b-4658-a180-87849a816901",
   "metadata": {},
   "outputs": [
    {
     "data": {
      "text/plain": [
       "{'name': 'anshuman mishra', 'vill': 'lakhoopur', 'edu': 'graduate'}"
      ]
     },
     "execution_count": 26,
     "metadata": {},
     "output_type": "execute_result"
    }
   ],
   "source": [
    "dec"
   ]
  },
  {
   "cell_type": "code",
   "execution_count": 28,
   "id": "f7260f55-498f-4242-91d8-b75983646e52",
   "metadata": {},
   "outputs": [
    {
     "data": {
      "text/plain": [
       "'anshuman mishra'"
      ]
     },
     "execution_count": 28,
     "metadata": {},
     "output_type": "execute_result"
    }
   ],
   "source": [
    "dec['name']"
   ]
  },
  {
   "cell_type": "code",
   "execution_count": 30,
   "id": "a7f5d2e7-ea35-4e3d-a98d-5972b4875cb6",
   "metadata": {},
   "outputs": [],
   "source": [
    "f={'company':'pw','course':['data science','web ']}"
   ]
  },
  {
   "cell_type": "code",
   "execution_count": 32,
   "id": "57ef1747-d63d-46d6-a812-50d064829720",
   "metadata": {
    "collapsed": true,
    "jupyter": {
     "outputs_hidden": true
    },
    "tags": []
   },
   "outputs": [
    {
     "data": {
      "text/plain": [
       "{'company': 'pw', 'course': ['data science', 'web ']}"
      ]
     },
     "execution_count": 32,
     "metadata": {},
     "output_type": "execute_result"
    }
   ],
   "source": [
    "f"
   ]
  },
  {
   "cell_type": "code",
   "execution_count": 33,
   "id": "7c4d1fb9-80b3-4aaf-b6ad-fccfcf72b1e3",
   "metadata": {},
   "outputs": [
    {
     "data": {
      "text/plain": [
       "['data science', 'web ']"
      ]
     },
     "execution_count": 33,
     "metadata": {},
     "output_type": "execute_result"
    }
   ],
   "source": [
    "f['course']"
   ]
  },
  {
   "cell_type": "code",
   "execution_count": 34,
   "id": "7a5039a1-3cf5-4cfa-9f2f-302c25ee4c15",
   "metadata": {},
   "outputs": [
    {
     "data": {
      "text/plain": [
       "'web '"
      ]
     },
     "execution_count": 34,
     "metadata": {},
     "output_type": "execute_result"
    }
   ],
   "source": [
    "f['course'][1]"
   ]
  },
  {
   "cell_type": "code",
   "execution_count": 35,
   "id": "519d32ef-431d-44fe-9075-596a0791de4e",
   "metadata": {},
   "outputs": [],
   "source": [
    "f1={'number': [2,3,4,4,34,],'assianment':(23,45,34,56,),'launch date':[4,4,55,],'class time':{2}}"
   ]
  },
  {
   "cell_type": "code",
   "execution_count": 37,
   "id": "f5229359-5cb9-46c8-9332-29c48b7a5c4b",
   "metadata": {},
   "outputs": [
    {
     "data": {
      "text/plain": [
       "{'number': [2, 3, 4, 4, 34],\n",
       " 'assianment': (23, 45, 34, 56),\n",
       " 'launch date': [4, 4, 55],\n",
       " 'class time': {2}}"
      ]
     },
     "execution_count": 37,
     "metadata": {},
     "output_type": "execute_result"
    }
   ],
   "source": [
    "f1"
   ]
  },
  {
   "cell_type": "code",
   "execution_count": 38,
   "id": "115b23af-ef1d-449d-a4ec-5f223df32d8a",
   "metadata": {},
   "outputs": [
    {
     "data": {
      "text/plain": [
       "[4, 4, 55]"
      ]
     },
     "execution_count": 38,
     "metadata": {},
     "output_type": "execute_result"
    }
   ],
   "source": [
    "f1['launch date']"
   ]
  },
  {
   "cell_type": "code",
   "execution_count": 39,
   "id": "6a2cd445-daf5-454c-84ae-c5b5142dce05",
   "metadata": {},
   "outputs": [
    {
     "data": {
      "text/plain": [
       "55"
      ]
     },
     "execution_count": 39,
     "metadata": {},
     "output_type": "execute_result"
    }
   ],
   "source": [
    "f1['launch date'][2]"
   ]
  },
  {
   "cell_type": "code",
   "execution_count": 40,
   "id": "80ea2125-a761-4a68-9551-59215255f53b",
   "metadata": {},
   "outputs": [],
   "source": [
    "f1['word']=['ran','anshue']"
   ]
  },
  {
   "cell_type": "code",
   "execution_count": 41,
   "id": "e985a476-e422-4c7c-bf0f-71e9ef7277a6",
   "metadata": {},
   "outputs": [
    {
     "data": {
      "text/plain": [
       "{'number': [2, 3, 4, 4, 34],\n",
       " 'assianment': (23, 45, 34, 56),\n",
       " 'launch date': [4, 4, 55],\n",
       " 'class time': {2},\n",
       " 'word': ['ran', 'anshue']}"
      ]
     },
     "execution_count": 41,
     "metadata": {},
     "output_type": "execute_result"
    }
   ],
   "source": [
    "f1"
   ]
  },
  {
   "cell_type": "code",
   "execution_count": 51,
   "id": "904ea87d-ad51-44bd-9dd7-9664ab8d21eb",
   "metadata": {},
   "outputs": [
    {
     "data": {
      "text/plain": [
       "['assianment', 'launch date', 'class time', 'word']"
      ]
     },
     "execution_count": 51,
     "metadata": {},
     "output_type": "execute_result"
    }
   ],
   "source": [
    "list(f1.keys())"
   ]
  },
  {
   "cell_type": "code",
   "execution_count": 49,
   "id": "918e29cb-629d-4331-ba50-d41b1c46f24f",
   "metadata": {},
   "outputs": [],
   "source": [
    "del f1['number']"
   ]
  },
  {
   "cell_type": "code",
   "execution_count": 60,
   "id": "c70a978c-3359-4ea2-a4a2-3ab57ef31a0d",
   "metadata": {},
   "outputs": [
    {
     "data": {
      "text/plain": [
       "{'assianment': (23, 45, 34, 56),\n",
       " 'launch date': [4, 4, 55],\n",
       " 'class time': {2},\n",
       " 'word': ['ran', 'anshue']}"
      ]
     },
     "execution_count": 60,
     "metadata": {},
     "output_type": "execute_result"
    }
   ],
   "source": [
    "f1"
   ]
  },
  {
   "cell_type": "code",
   "execution_count": 62,
   "id": "aec3e1c3-c2c2-4905-a8a6-0f75bdc1b4e9",
   "metadata": {},
   "outputs": [
    {
     "data": {
      "text/plain": [
       "[(23, 45, 34, 56), [4, 4, 55], {2}, ['ran', 'anshue']]"
      ]
     },
     "execution_count": 62,
     "metadata": {},
     "output_type": "execute_result"
    }
   ],
   "source": [
    "list(f1.values())"
   ]
  },
  {
   "cell_type": "code",
   "execution_count": 65,
   "id": "597bb53b-71ae-4444-ab48-0ebcbf2c9aa9",
   "metadata": {},
   "outputs": [
    {
     "data": {
      "text/plain": [
       "[('assianment', (23, 45, 34, 56)),\n",
       " ('launch date', [4, 4, 55]),\n",
       " ('class time', {2}),\n",
       " ('word', ['ran', 'anshue'])]"
      ]
     },
     "execution_count": 65,
     "metadata": {},
     "output_type": "execute_result"
    }
   ],
   "source": [
    "list(f1.items())"
   ]
  },
  {
   "cell_type": "code",
   "execution_count": 66,
   "id": "e520ea47-f958-4b3a-9445-f25e665a0ceb",
   "metadata": {},
   "outputs": [
    {
     "data": {
      "text/plain": [
       "['ran', 'anshue']"
      ]
     },
     "execution_count": 66,
     "metadata": {},
     "output_type": "execute_result"
    }
   ],
   "source": [
    "f1.pop('word')"
   ]
  },
  {
   "cell_type": "code",
   "execution_count": 67,
   "id": "0db83c71-65cc-4234-8049-2579b759d366",
   "metadata": {},
   "outputs": [],
   "source": [
    "f1['distict']=['prayap']"
   ]
  },
  {
   "cell_type": "code",
   "execution_count": 68,
   "id": "7bf01af6-5011-42c6-8349-d3720157bd12",
   "metadata": {},
   "outputs": [
    {
     "data": {
      "text/plain": [
       "{'assianment': (23, 45, 34, 56),\n",
       " 'launch date': [4, 4, 55],\n",
       " 'class time': {2},\n",
       " 'distict': ['prayap']}"
      ]
     },
     "execution_count": 68,
     "metadata": {},
     "output_type": "execute_result"
    }
   ],
   "source": [
    "f1"
   ]
  },
  {
   "cell_type": "code",
   "execution_count": 83,
   "id": "a5fd3520-acbc-46a9-bf96-615447948d67",
   "metadata": {},
   "outputs": [
    {
     "name": "stdin",
     "output_type": "stream",
     "text": [
      "enter your marks 75\n"
     ]
    },
    {
     "name": "stdout",
     "output_type": "stream",
     "text": [
      "you will part of a1 batch\n"
     ]
    }
   ],
   "source": [
    "marks=int( input('enter your marks'))\n",
    "if marks >=80 and marks< 100:\n",
    "    print(\"you will be part of ab batch\")\n",
    "elif marks >= 60 and marks< 80:\n",
    "        print('you will part of a1 batch')\n",
    "elif marks >=40 and marks <60:\n",
    "            print('you will be a part of a2 batch')\n",
    "else:\n",
    "                print('you part of a3')"
   ]
  },
  {
   "cell_type": "code",
   "execution_count": 87,
   "id": "5e76d7a3-3472-494b-b911-e822a3a39be4",
   "metadata": {},
   "outputs": [
    {
     "name": "stdin",
     "output_type": "stream",
     "text": [
      "enter the price 12000\n"
     ]
    },
    {
     "name": "stdout",
     "output_type": "stream",
     "text": [
      "high\n",
      "too high\n"
     ]
    }
   ],
   "source": [
    "price=int(input('enter the price'))\n",
    "if price>5000:\n",
    "    print('high')\n",
    "if price>10000:\n",
    " print('too high')"
   ]
  },
  {
   "cell_type": "code",
   "execution_count": 88,
   "id": "023c454a-39ca-4c1c-9d04-1525b1215326",
   "metadata": {},
   "outputs": [],
   "source": [
    "l=[2,3,4,5,6,8,9,12,14]"
   ]
  },
  {
   "cell_type": "code",
   "execution_count": 97,
   "id": "1e7ee1fe-25aa-45a0-8795-e9169de4d166",
   "metadata": {},
   "outputs": [
    {
     "name": "stdout",
     "output_type": "stream",
     "text": [
      "1\n",
      "2\n",
      "3\n",
      "4\n",
      "5\n",
      "7\n",
      "8\n",
      "11\n",
      "13\n"
     ]
    },
    {
     "data": {
      "text/plain": [
       "[1, 2, 3, 4, 5, 7, 8, 11, 13]"
      ]
     },
     "execution_count": 97,
     "metadata": {},
     "output_type": "execute_result"
    }
   ],
   "source": [
    "l1=[]\n",
    "for i in l:\n",
    "    print(i-1)\n",
    "    l1.append(i-1)\n",
    "l1 "
   ]
  },
  {
   "cell_type": "code",
   "execution_count": 93,
   "id": "fe821d67-f44a-4fee-a162-7fed483e9726",
   "metadata": {},
   "outputs": [
    {
     "data": {
      "text/plain": [
       "[1, 2, 3, 4, 5, 7, 8, 11, 13]"
      ]
     },
     "execution_count": 93,
     "metadata": {},
     "output_type": "execute_result"
    }
   ],
   "source": [
    "l1"
   ]
  },
  {
   "cell_type": "code",
   "execution_count": 98,
   "id": "f61c41d7-27c5-4578-81b4-d3817fe838d3",
   "metadata": {},
   "outputs": [],
   "source": [
    "g=['eror','true','rfrfr']"
   ]
  },
  {
   "cell_type": "code",
   "execution_count": 105,
   "id": "6e1f02f4-24b8-4788-930a-25bd9b6d8af5",
   "metadata": {},
   "outputs": [
    {
     "name": "stdout",
     "output_type": "stream",
     "text": [
      "eror\n",
      "true\n",
      "rfrfr\n"
     ]
    },
    {
     "data": {
      "text/plain": [
       "['EROR', 'TRUE', 'RFRFR']"
      ]
     },
     "execution_count": 105,
     "metadata": {},
     "output_type": "execute_result"
    }
   ],
   "source": [
    "g1=[]\n",
    "for i in g:\n",
    "    print(i)\n",
    "\n",
    "    g1.append(i.upper())\n",
    "g1"
   ]
  },
  {
   "cell_type": "code",
   "execution_count": 104,
   "id": "44ad61b0-3819-4182-b38f-5669c79dc1d9",
   "metadata": {},
   "outputs": [
    {
     "data": {
      "text/plain": [
       "['EROR', 'TRUE', 'RFRFR']"
      ]
     },
     "execution_count": 104,
     "metadata": {},
     "output_type": "execute_result"
    }
   ],
   "source": [
    "g1"
   ]
  },
  {
   "cell_type": "code",
   "execution_count": 107,
   "id": "d6d37259-ffa2-4846-9944-9c195532a303",
   "metadata": {},
   "outputs": [],
   "source": [
    "q=[2,3,4,5,'ansdd','pooii','sssss']"
   ]
  },
  {
   "cell_type": "code",
   "execution_count": 118,
   "id": "36b1e3b8-b61c-42e6-bff6-05b444c8ab43",
   "metadata": {},
   "outputs": [],
   "source": [
    "q1=[]\n",
    "q2=[]\n",
    "for i in q :\n",
    "    if type(i)==int or type(i)==float :\n",
    "        q1.append(i)\n",
    "    else:\n",
    "        q2.append(i)"
   ]
  },
  {
   "cell_type": "code",
   "execution_count": 119,
   "id": "2ddcbdd1-8807-4efc-8bfc-fd9149a44112",
   "metadata": {},
   "outputs": [
    {
     "data": {
      "text/plain": [
       "[2, 3, 4, 5]"
      ]
     },
     "execution_count": 119,
     "metadata": {},
     "output_type": "execute_result"
    }
   ],
   "source": [
    "q1"
   ]
  },
  {
   "cell_type": "code",
   "execution_count": 120,
   "id": "becd59bd-6e43-4128-991a-85c97fa5e898",
   "metadata": {},
   "outputs": [
    {
     "data": {
      "text/plain": [
       "['ansdd', 'pooii', 'sssss']"
      ]
     },
     "execution_count": 120,
     "metadata": {},
     "output_type": "execute_result"
    }
   ],
   "source": [
    "q2"
   ]
  },
  {
   "cell_type": "code",
   "execution_count": null,
   "id": "5d98d191-3202-4d53-be0b-c9433d37afc1",
   "metadata": {},
   "outputs": [],
   "source": []
  }
 ],
 "metadata": {
  "kernelspec": {
   "display_name": "Python 3 (ipykernel)",
   "language": "python",
   "name": "python3"
  },
  "language_info": {
   "codemirror_mode": {
    "name": "ipython",
    "version": 3
   },
   "file_extension": ".py",
   "mimetype": "text/x-python",
   "name": "python",
   "nbconvert_exporter": "python",
   "pygments_lexer": "ipython3",
   "version": "3.10.8"
  }
 },
 "nbformat": 4,
 "nbformat_minor": 5
}
